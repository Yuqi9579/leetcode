{
 "cells": [
  {
   "cell_type": "code",
   "execution_count": 7,
   "metadata": {},
   "outputs": [],
   "source": [
    "graph = {\n",
    "    'A': ['B', 'C'],\n",
    "    'B': ['A', 'C', 'D'],\n",
    "    'C': ['A', 'B', 'D', 'E'],\n",
    "    'D': ['B', 'C', 'E', 'F'],\n",
    "    'E': ['C', 'D'],\n",
    "    'F': ['D']\n",
    "}#定义一个无向图"
   ]
  },
  {
   "cell_type": "code",
   "execution_count": 8,
   "metadata": {},
   "outputs": [
    {
     "data": {
      "text/plain": [
       "dict_keys(['A', 'B', 'C', 'D', 'E', 'F'])"
      ]
     },
     "execution_count": 8,
     "metadata": {},
     "output_type": "execute_result"
    }
   ],
   "source": [
    "graph.keys()"
   ]
  },
  {
   "cell_type": "code",
   "execution_count": 9,
   "metadata": {},
   "outputs": [],
   "source": [
    "def BFS(graph, start):\n",
    "    '''\n",
    "    用队列实现\n",
    "    '''\n",
    "    visited = set(start)\n",
    "    queue = []\n",
    "    queue.append(start)\n",
    "    for i in range(len(graph)):\n",
    "        vertex = queue.pop(0)\n",
    "        print(vertex)\n",
    "        for neib in graph[vertex]:\n",
    "            if neib not in visited:\n",
    "                visited.add(neib)\n",
    "                queue.append(neib)"
   ]
  },
  {
   "cell_type": "code",
   "execution_count": 10,
   "metadata": {},
   "outputs": [
    {
     "name": "stdout",
     "output_type": "stream",
     "text": [
      "A\n",
      "B\n",
      "C\n",
      "D\n",
      "E\n",
      "F\n"
     ]
    }
   ],
   "source": [
    "BFS(graph, 'A')"
   ]
  },
  {
   "cell_type": "code",
   "execution_count": 11,
   "metadata": {},
   "outputs": [
    {
     "name": "stdout",
     "output_type": "stream",
     "text": [
      "C\n",
      "A\n",
      "B\n",
      "D\n",
      "E\n",
      "F\n"
     ]
    }
   ],
   "source": [
    "BFS(graph, 'C')"
   ]
  },
  {
   "cell_type": "code",
   "execution_count": 17,
   "metadata": {},
   "outputs": [],
   "source": [
    "def DFS(graph, start):\n",
    "    '''\n",
    "    用栈实现\n",
    "    '''\n",
    "    visited = set(start)\n",
    "    stack = []\n",
    "    stack.append(start)\n",
    "    for i in range(len(graph)):\n",
    "        vertex = stack.pop()\n",
    "        print(vertex)\n",
    "        for neib in graph[vertex]:\n",
    "            if neib not in visited:\n",
    "                visited.add(neib)\n",
    "                stack.append(neib)"
   ]
  },
  {
   "cell_type": "code",
   "execution_count": 18,
   "metadata": {},
   "outputs": [
    {
     "name": "stdout",
     "output_type": "stream",
     "text": [
      "A\n",
      "C\n",
      "E\n",
      "D\n",
      "F\n",
      "B\n"
     ]
    }
   ],
   "source": [
    "DFS(graph, 'A')"
   ]
  },
  {
   "cell_type": "code",
   "execution_count": 22,
   "metadata": {},
   "outputs": [],
   "source": [
    "def BFS_update(graph, start):\n",
    "    '''\n",
    "    加入回溯字典parent\n",
    "    '''\n",
    "    visited = set(start)\n",
    "    queue = []\n",
    "    parents = {start: None}\n",
    "    queue.append(start)\n",
    "    for i in range(len(graph)):\n",
    "        vertex = queue.pop(0)\n",
    "        for neib in graph[vertex]:\n",
    "            if neib not in visited:\n",
    "                visited.add(neib)\n",
    "                queue.append(neib)\n",
    "                parents[neib] = vertex\n",
    "    return parents"
   ]
  },
  {
   "cell_type": "code",
   "execution_count": 24,
   "metadata": {},
   "outputs": [],
   "source": [
    "parents = BFS_update(graph, 'A')"
   ]
  },
  {
   "cell_type": "code",
   "execution_count": 25,
   "metadata": {},
   "outputs": [
    {
     "name": "stdout",
     "output_type": "stream",
     "text": [
      "C\n",
      "A\n",
      "None\n"
     ]
    }
   ],
   "source": [
    "parent = parents['E']\n",
    "print(parent)\n",
    "while parent != None:\n",
    "    parent = parents[parent]\n",
    "    print(parent)"
   ]
  },
  {
   "cell_type": "code",
   "execution_count": null,
   "metadata": {},
   "outputs": [],
   "source": []
  }
 ],
 "metadata": {
  "kernelspec": {
   "display_name": "Python 3",
   "language": "python",
   "name": "python3"
  },
  "language_info": {
   "codemirror_mode": {
    "name": "ipython",
    "version": 3
   },
   "file_extension": ".py",
   "mimetype": "text/x-python",
   "name": "python",
   "nbconvert_exporter": "python",
   "pygments_lexer": "ipython3",
   "version": "3.7.6"
  }
 },
 "nbformat": 4,
 "nbformat_minor": 4
}
