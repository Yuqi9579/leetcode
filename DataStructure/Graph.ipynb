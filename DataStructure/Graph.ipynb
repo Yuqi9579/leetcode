{
 "cells": [
  {
   "cell_type": "markdown",
   "metadata": {},
   "source": [
    "# 图\n",
    "## 1.概述\n",
    "图是是由表示元素的集合V和表示数据关系之间的关系集合E组成的, 记为G=<V,E>\n",
    "- 边(edge): 顶点的序偶\n",
    "- 顶点(vertex): 数据元素\n",
    "- 权重(weight): 表示一个顶点到另一个顶点的代价距离等\n",
    "- 度(degree): 与该顶点相关的边的数目\n",
    "![avatar](./picture/graph.png)\n",
    "\n",
    "## 2.邻接矩阵储存\n",
    "无向图的邻接矩阵:\n",
    "$$\n",
    " \\begin{bmatrix}\n",
    "   0 & 0 & 1 & 1 & 0\\\\\n",
    "   0 & 0 & 0 & 1 & 1\\\\\n",
    "   1 & 0 & 0 & 1 & 1\\\\\n",
    "   1 & 1 & 1 & 0 & 0\\\\\n",
    "   0 & 1 & 1 & 0 & 0\n",
    " \\end{bmatrix} \n",
    "$$\n",
    "有向图的邻接矩阵:\n",
    "$$\n",
    " \\begin{bmatrix}\n",
    "   0 & 1 & 1 & 0\\\\\n",
    "   0 & 0 & 0 & 0\\\\\n",
    "   0 & 0 & 0 & 1\\\\\n",
    "   1 & 0 & 0 & 0 \n",
    " \\end{bmatrix}\n",
    "$$\n",
    "\n",
    "## 3.邻接表储存\n"
   ]
  },
  {
   "cell_type": "code",
   "execution_count": null,
   "metadata": {},
   "outputs": [],
   "source": []
  },
  {
   "cell_type": "markdown",
   "metadata": {},
   "source": [
    "# 邻接表 Adjacency List"
   ]
  }
 ],
 "metadata": {
  "kernelspec": {
   "display_name": "Python 3",
   "language": "python",
   "name": "python3"
  },
  "language_info": {
   "codemirror_mode": {
    "name": "ipython",
    "version": 3
   },
   "file_extension": ".py",
   "mimetype": "text/x-python",
   "name": "python",
   "nbconvert_exporter": "python",
   "pygments_lexer": "ipython3",
   "version": "3.7.6"
  }
 },
 "nbformat": 4,
 "nbformat_minor": 4
}
